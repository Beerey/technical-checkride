{
 "cells": [
  {
   "cell_type": "markdown",
   "id": "7e16c7d4",
   "metadata": {},
   "source": []
  },
  {
   "cell_type": "markdown",
   "id": "02606049",
   "metadata": {},
   "source": [
    "## Create the Vertices of the Graph"
   ]
  },
  {
   "cell_type": "code",
   "execution_count": 56,
   "id": "be90a14e",
   "metadata": {
    "scrolled": false
   },
   "outputs": [
    {
     "data": {
      "application/vnd.jupyter.widget-view+json": {
       "model_id": "96032c2920fa4068bc912ca1f3312594",
       "version_major": 2,
       "version_minor": 0
      },
      "text/plain": [
       "Tab(children=(Output(layout=Layout(max_height='600px', overflow='scroll', width='100%')), Output(layout=Layout…"
      ]
     },
     "metadata": {},
     "output_type": "display_data"
    }
   ],
   "source": [
    "%%gremlin\n",
    "\n",
    "g.addV('software_version').property(id, '1').property('version_number', '1.0').next()\n",
    "g.addV('software_version').property(id, '2').property('version_number', '1.1').next()\n",
    "g.addV('sonar_device').property(id, '3').property('device_identifier', 'DEVICE A').next()\n",
    "g.addV('sonar_device').property(id, '4').property('device_identifier', 'DEVICE B').next()\n",
    "g.addV('sonar_data').property(id, '5').property('sonar_data', 'some sonar data here').next()\n",
    "g.addV('sonar_data').property(id, '6').property('sonar_data', 'some sonar data here').next()\n",
    "g.addV('sonar_data').property(id, '7').property('sonar_data', 'some sonar data here').next()\n",
    "g.addV('photo').property(id, '8').property('photo_pointer', 'a pointer to S3 here').next()\n",
    "g.addV('photo').property(id, '9').property('photo_pointer', 'a pointer to S3 here').next()\n",
    "g.addV('height_map').property(id, '10').property('height_map', 'a pointer to S3 height map here').next()\n",
    "g.addV('height_map').property(id, '11').property('height_map', 'a pointer to S3 height map here').next()\n",
    "g.addV('gps_coordinates').property(id, '12').property('x_coord', '-27.882219').property('y_coord', '153.447351').next()\n",
    "g.addV('gps_coordinates').property(id, '13').property('x_coord', '-27.882219').property('y_coord', '153.450183').next()\n",
    "g.addV('gps_coordinates').property(id, '14').property('x_coord', '-27.882219').property('y_coord', '153.454678').next()\n",
    "g.addV('gps_coordinates').property(id, '15').property('x_coord', '-27.882219').property('y_coord', '153.476670')"
   ]
  },
  {
   "cell_type": "markdown",
   "id": "628388e5",
   "metadata": {},
   "source": [
    "## Create the Edges of the Graph"
   ]
  },
  {
   "cell_type": "code",
   "execution_count": 57,
   "id": "47bd9059",
   "metadata": {},
   "outputs": [
    {
     "data": {
      "application/vnd.jupyter.widget-view+json": {
       "model_id": "a7e429f500644cf088ac5f7cdf8921bc",
       "version_major": 2,
       "version_minor": 0
      },
      "text/plain": [
       "Tab(children=(Output(layout=Layout(max_height='600px', overflow='scroll', width='100%')), Output(layout=Layout…"
      ]
     },
     "metadata": {},
     "output_type": "display_data"
    }
   ],
   "source": [
    "%%gremlin\n",
    "\n",
    "g.V('1').addE('Running on').to(g.V('3')).next()\n",
    "g.V('2').addE('Running on').to(g.V('4')).next()\n",
    "g.V('3').addE('Superseded by').to(g.V('4')).next()\n",
    "g.V('3').addE('Produced').to(g.V('5')).next()\n",
    "g.V('4').addE('Produced').to(g.V('6')).next()\n",
    "g.V('4').addE('Produced').to(g.V('7')).next()\n",
    "g.V('5').addE('Taken at').to(g.V('13')).next()\n",
    "g.V('8').addE('Taken at').to(g.V('13')).next()\n",
    "g.V('6').addE('Taken at').to(g.V('13')).next()\n",
    "g.V('10').addE('Taken at').to(g.V('13')).next()\n",
    "g.V('7').addE('Taken at').to(g.V('14')).next()\n",
    "g.V('9').addE('Taken at').to(g.V('14')).next()\n",
    "g.V('11').addE('Taken at').to(g.V('14')).next()\n",
    "g.V('12').addE('Follows').to(g.V('13')).next()\n",
    "g.V('13').addE('Follows').to(g.V('14')).next()\n",
    "g.V('14').addE('Follows').to(g.V('15'))"
   ]
  },
  {
   "cell_type": "markdown",
   "id": "43fe054d",
   "metadata": {},
   "source": [
    "## Retrieve all Vertices named \"software_version\" and explode their properties."
   ]
  },
  {
   "cell_type": "code",
   "execution_count": 58,
   "id": "c674a721",
   "metadata": {
    "scrolled": false
   },
   "outputs": [
    {
     "data": {
      "application/vnd.jupyter.widget-view+json": {
       "model_id": "345ac5aba6bb449e9cb8cca89308887b",
       "version_major": 2,
       "version_minor": 0
      },
      "text/plain": [
       "Tab(children=(Output(layout=Layout(max_height='600px', overflow='scroll', width='100%')), Output(layout=Layout…"
      ]
     },
     "metadata": {},
     "output_type": "display_data"
    }
   ],
   "source": [
    "%%gremlin\n",
    "\n",
    "g.V().hasLabel('software_version').valueMap()"
   ]
  },
  {
   "cell_type": "markdown",
   "id": "f8ee0f8f",
   "metadata": {},
   "source": [
    "## Return all items associated with a Software Version"
   ]
  },
  {
   "cell_type": "code",
   "execution_count": 59,
   "id": "2deaab2a",
   "metadata": {
    "scrolled": true
   },
   "outputs": [
    {
     "data": {
      "application/vnd.jupyter.widget-view+json": {
       "model_id": "c7a8f329067c4b5ba69589201d0601ad",
       "version_major": 2,
       "version_minor": 0
      },
      "text/plain": [
       "Tab(children=(Output(layout=Layout(max_height='600px', overflow='scroll', width='100%')), Force(network=<graph…"
      ]
     },
     "metadata": {},
     "output_type": "display_data"
    }
   ],
   "source": [
    "%%gremlin -p v,outE,inV\n",
    "\n",
    "g.V().hasLabel('software_version').outE().inV().path()"
   ]
  },
  {
   "cell_type": "markdown",
   "id": "8638e156",
   "metadata": {},
   "source": [
    "## Return all Sonar Data produced by Sonar Devices running Software Version 1.1"
   ]
  },
  {
   "cell_type": "code",
   "execution_count": 60,
   "id": "bd3417e0",
   "metadata": {
    "scrolled": true
   },
   "outputs": [
    {
     "data": {
      "application/vnd.jupyter.widget-view+json": {
       "model_id": "ec4fc636c7e84f99b54ae21a9f2282b0",
       "version_major": 2,
       "version_minor": 0
      },
      "text/plain": [
       "Tab(children=(Output(layout=Layout(max_height='600px', overflow='scroll', width='100%')), Force(network=<graph…"
      ]
     },
     "metadata": {},
     "output_type": "display_data"
    }
   ],
   "source": [
    "%%gremlin\n",
    "\n",
    "g.V().\n",
    "hasLabel(\"software_version\").\n",
    "has(\"version_number\", \"1.1\").\n",
    "out(\"Running on\").\n",
    "out(\"Produced\").\n",
    "path()"
   ]
  },
  {
   "cell_type": "markdown",
   "id": "d9a1c200",
   "metadata": {},
   "source": [
    "## Return all Height Maps taken at GPS co-ordinates surveyed by Sonar Device B"
   ]
  },
  {
   "cell_type": "code",
   "execution_count": 61,
   "id": "cdeabfb0",
   "metadata": {},
   "outputs": [
    {
     "data": {
      "application/vnd.jupyter.widget-view+json": {
       "model_id": "1e2b0c87fcaa4ac99f834a149374f50c",
       "version_major": 2,
       "version_minor": 0
      },
      "text/plain": [
       "Tab(children=(Output(layout=Layout(max_height='600px', overflow='scroll', width='100%')), Force(network=<graph…"
      ]
     },
     "metadata": {},
     "output_type": "display_data"
    }
   ],
   "source": [
    "%%gremlin\n",
    "g.V().\n",
    "hasLabel(\"sonar_device\").\n",
    "has(\"device_identifier\", \"DEVICE B\").\n",
    "out(\"Produced\").\n",
    "out(\"Taken at\").\n",
    "in(\"Taken at\").\n",
    "hasLabel(\"height_map\").\n",
    "path()"
   ]
  },
  {
   "cell_type": "markdown",
   "id": "06ece830",
   "metadata": {},
   "source": [
    "## Drop the Entire Graph"
   ]
  },
  {
   "cell_type": "code",
   "execution_count": 55,
   "id": "f5043a4a",
   "metadata": {},
   "outputs": [
    {
     "data": {
      "application/vnd.jupyter.widget-view+json": {
       "model_id": "179555cf65ab4216955eab98a9623312",
       "version_major": 2,
       "version_minor": 0
      },
      "text/plain": [
       "Tab(children=(Output(layout=Layout(max_height='600px', overflow='scroll', width='100%')), Output(layout=Layout…"
      ]
     },
     "metadata": {},
     "output_type": "display_data"
    }
   ],
   "source": [
    "%%gremlin\n",
    "\n",
    "g.V().drop().iterate()"
   ]
  },
  {
   "cell_type": "code",
   "execution_count": null,
   "id": "71d21251",
   "metadata": {},
   "outputs": [],
   "source": []
  }
 ],
 "metadata": {
  "kernelspec": {
   "display_name": "Python 3",
   "language": "python",
   "name": "python3"
  },
  "language_info": {
   "codemirror_mode": {
    "name": "ipython",
    "version": 3
   },
   "file_extension": ".py",
   "mimetype": "text/x-python",
   "name": "python",
   "nbconvert_exporter": "python",
   "pygments_lexer": "ipython3",
   "version": "3.6.13"
  }
 },
 "nbformat": 4,
 "nbformat_minor": 5
}
